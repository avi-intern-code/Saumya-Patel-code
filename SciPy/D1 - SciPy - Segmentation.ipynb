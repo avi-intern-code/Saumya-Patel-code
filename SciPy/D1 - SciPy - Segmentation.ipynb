{
 "cells": [
  {
   "cell_type": "code",
   "execution_count": null,
   "metadata": {},
   "outputs": [],
   "source": [
    "%matplotlib inline\n",
    "%config InlineBackend.figure_format = 'retina'"
   ]
  },
  {
   "cell_type": "markdown",
   "metadata": {},
   "source": [
    "### Segmentation\n",
    "\n",
    "Separating an image into one or more regions of interest.The first step of doing this is identifying where that person is in the source image."
   ]
  },
  {
   "cell_type": "markdown",
   "metadata": {},
   "source": [
    "### Segmentation contains two major sub-fields\n",
    "Supervised segmentation: Some prior knowledge, possibly from human input, is used to guide the algorithm. Supervised algorithms currently included in scikit-image include\n",
    "Thresholding algorithms which require user input (skimage.filters.threshold_*)\n",
    "skimage.segmentation.random_walker\n",
    "skimage.segmentation.active_contour\n",
    "skimage.segmentation.watershed\n",
    "\n",
    "Unsupervised segmentation: No prior knowledge. These algorithms attempt to subdivide into meaningful regions automatically. The user may be able to tweak settings like number of regions.\n",
    "Thresholding algorithms which require no user input.\n",
    "skimage.segmentation.slic\n",
    "skimage.segmentation.chan_vese\n",
    "skimage.segmentation.felzenszwalb\n",
    "skimage.segmentation.quickshift"
   ]
  },
  {
   "cell_type": "code",
   "execution_count": null,
   "metadata": {},
   "outputs": [],
   "source": [
    "import numpy as np\n",
    "import matplotlib.pyplot as plt\n",
    "\n",
    "import skimage.data as data\n",
    "import skimage.segmentation as seg\n",
    "from skimage import filters\n",
    "from skimage import draw\n",
    "from skimage import color\n",
    "from skimage import exposure\n",
    "\n",
    "\n",
    "def image_show(image, nrows=1, ncols=1, cmap='gray', **kwargs):\n",
    "    fig, ax = plt.subplots(nrows=nrows, ncols=ncols, figsize=(16, 16))\n",
    "    ax.imshow(image, cmap='gray')\n",
    "    ax.axis('off')\n",
    "    return fig, ax"
   ]
  },
  {
   "cell_type": "markdown",
   "metadata": {},
   "source": [
    "### Thresholding\n",
    "\n",
    "In some images, global or local contrast may be sufficient to separate regions of interest. Simply choosing all pixels above or below a certain threshold may be sufficient to segment such an image."
   ]
  },
  {
   "cell_type": "code",
   "execution_count": null,
   "metadata": {},
   "outputs": [],
   "source": [
    "text = data.page()\n",
    "\n",
    "image_show(text);"
   ]
  },
  {
   "cell_type": "markdown",
   "metadata": {},
   "source": [
    "#### Histograms\n",
    "\n",
    "A histogram simply plots the frequency (number of times) values within a certain range appear against the data values themselves. It is a powerful tool to get to know your data - or decide where you would like to threshold."
   ]
  },
  {
   "cell_type": "code",
   "execution_count": null,
   "metadata": {},
   "outputs": [],
   "source": [
    "fig, ax = plt.subplots(1, 1)\n",
    "ax.hist(text.ravel(), bins=256, range=[0, 255])\n",
    "ax.set_xlim(0, 256);"
   ]
  },
  {
   "cell_type": "markdown",
   "metadata": {},
   "source": [
    "## Experimentation: supervised thresholding\n",
    "Try simple NumPy methods and a few different thresholds on this image. Because we are setting the threshold, this is supervised segmentation."
   ]
  },
  {
   "cell_type": "code",
   "execution_count": null,
   "metadata": {},
   "outputs": [],
   "source": [
    "text_segmented = text < 100 # Your code here\n",
    "image_show(text_segmented);"
   ]
  },
  {
   "cell_type": "markdown",
   "metadata": {},
   "source": [
    "## Experimentation: unsupervised thresholding\n",
    "Here we will experiment with a number of automatic thresholding methods available in scikit-image. Because these require no input beyond the image itself, this is unsupervised segmentation.\n",
    "\n",
    "These functions generally return the threshold value(s), rather than applying it to the image directly."
   ]
  },
  {
   "cell_type": "code",
   "execution_count": null,
   "metadata": {},
   "outputs": [],
   "source": [
    "text_threshold = filters.threshold_sauvola(text)  # Hit tab with the cursor after the underscore, try several methods\n",
    "image_show(text < text_threshold);"
   ]
  },
  {
   "cell_type": "markdown",
   "metadata": {},
   "source": [
    "### Supervised segmentation\n",
    "\n",
    "Thresholding can be useful, but is rather basic and a high-contrast image will often limit its utility. For doing more fun things - like removing part of an image - we need more advanced tools."
   ]
  },
  {
   "cell_type": "code",
   "execution_count": null,
   "metadata": {},
   "outputs": [],
   "source": [
    "# Our source image\n",
    "astronaut = data.astronaut()\n",
    "image_show(astronaut);"
   ]
  },
  {
   "cell_type": "code",
   "execution_count": null,
   "metadata": {},
   "outputs": [],
   "source": [
    "astronaut_gray = color.rgb2gray(astronaut)\n",
    "image_show(astronaut_gray);"
   ]
  },
  {
   "cell_type": "markdown",
   "metadata": {},
   "source": [
    "### Active contour segmentation"
   ]
  },
  {
   "cell_type": "code",
   "execution_count": null,
   "metadata": {},
   "outputs": [],
   "source": [
    "def circle_points(resolution, center, radius):\n",
    "    \"\"\"Generate points defining a circle on an image.\"\"\"\n",
    "    radians = np.linspace(0, 2*np.pi, resolution)\n",
    "\n",
    "    c = center[1] + radius*np.cos(radians)\n",
    "    r = center[0] + radius*np.sin(radians)\n",
    "    \n",
    "    return np.array([c, r]).T\n",
    "\n",
    "# Exclude last point because a closed path should not have duplicate points\n",
    "points = circle_points(200, [100, 220], 100)[:-1]"
   ]
  },
  {
   "cell_type": "code",
   "execution_count": null,
   "metadata": {},
   "outputs": [],
   "source": [
    "snake = seg.active_contour(astronaut_gray, points)"
   ]
  },
  {
   "cell_type": "code",
   "execution_count": null,
   "metadata": {},
   "outputs": [],
   "source": [
    "fig, ax = image_show(astronaut)\n",
    "ax.plot(points[:, 0], points[:, 1], '--r', lw=3)\n",
    "ax.plot(snake[:, 0], snake[:, 1], '-b', lw=3);"
   ]
  },
  {
   "cell_type": "markdown",
   "metadata": {},
   "source": [
    "#### Random walker"
   ]
  },
  {
   "cell_type": "code",
   "execution_count": null,
   "metadata": {},
   "outputs": [],
   "source": [
    "astronaut_labels = np.zeros(astronaut_gray.shape, dtype=np.uint8)"
   ]
  },
  {
   "cell_type": "code",
   "execution_count": null,
   "metadata": {},
   "outputs": [],
   "source": [
    "indices = draw.circle_perimeter(100, 220, 25)\n",
    "\n",
    "astronaut_labels[indices] = 1\n",
    "astronaut_labels[points[:, 1].astype(np.int), points[:, 0].astype(np.int)] = 2\n",
    "\n",
    "image_show(astronaut_labels);"
   ]
  },
  {
   "cell_type": "code",
   "execution_count": null,
   "metadata": {},
   "outputs": [],
   "source": [
    "astronaut_segmented = seg.random_walker(astronaut_gray, astronaut_labels)"
   ]
  },
  {
   "cell_type": "code",
   "execution_count": null,
   "metadata": {},
   "outputs": [],
   "source": [
    "# Check our results\n",
    "fig, ax = image_show(astronaut_gray)\n",
    "ax.imshow(astronaut_segmented == 1, alpha=0.3);"
   ]
  },
  {
   "cell_type": "markdown",
   "metadata": {},
   "source": [
    "#### Flood fill\n",
    "\n",
    "A basic but effective segmentation technique was recently added to scikit-image: segmentation.flood and segmentation.flood_fill. These algorithms take a seed point and iteratively find and fill adjacent points which are equal to or within a tolerance of the initial point. flood returns the region; flood_fill returns a modified image with those points changed to a new value.\n",
    "\n",
    "This approach is most suited for areas which have a relatively uniform color or gray value, and/or high contrast relative to adjacent structures."
   ]
  },
  {
   "cell_type": "code",
   "execution_count": null,
   "metadata": {},
   "outputs": [],
   "source": [
    "seed_point = (100, 220)  # Experiment with the seed point\n",
    "flood_mask = seg.flood(astronaut_gray, seed_point, tolerance=0.3)  # Experiment with tolerance"
   ]
  },
  {
   "cell_type": "code",
   "execution_count": null,
   "metadata": {},
   "outputs": [],
   "source": [
    "fig, ax = image_show(astronaut_gray)\n",
    "ax.imshow(flood_mask, alpha=0.3);"
   ]
  },
  {
   "cell_type": "code",
   "execution_count": null,
   "metadata": {},
   "outputs": [],
   "source": [
    "seed_bkgnd = (100, 350)  # Background\n",
    "seed_collar = (200, 220)  # Collar\n",
    "\n",
    "better_contrast =   # Your idea to improve contrast here\n",
    "tol_bkgnd =    # Experiment with tolerance for background\n",
    "tol_collar =   # Experiment with tolerance for the collar\n",
    "\n",
    "flood_background = seg.flood(better_contrast, seed_bkgnd, tolerance=tol_bkgnd)\n",
    "flood_collar = seg.flood(better_contrast, seed_collar, tolerance=tol_collar)"
   ]
  },
  {
   "cell_type": "code",
   "execution_count": null,
   "metadata": {},
   "outputs": [],
   "source": [
    "fig, ax = image_show(better_contrast)\n",
    "\n",
    "# Combine the two floods with binary OR operator\n",
    "ax.imshow(flood_background | flood_collar, alpha=0.3);"
   ]
  },
  {
   "cell_type": "code",
   "execution_count": null,
   "metadata": {},
   "outputs": [],
   "source": [
    "flood_mask2 = seg.flood(astronaut[..., 2], (200, 220), tolerance=40)\n",
    "fig, ax = image_show(astronaut[..., 2])\n",
    "ax.imshow(flood_mask | flood_mask2, alpha=0.3);"
   ]
  },
  {
   "cell_type": "markdown",
   "metadata": {},
   "source": [
    "### Combining regions with a Region Adjacency Graph (RAG)"
   ]
  },
  {
   "cell_type": "code",
   "execution_count": null,
   "metadata": {},
   "outputs": [],
   "source": [
    "import skimage.future.graph as graph\n",
    "\n",
    "rag = graph.rag_mean_color(astronaut, astronaut_felzenszwalb + 1)"
   ]
  },
  {
   "cell_type": "code",
   "execution_count": null,
   "metadata": {},
   "outputs": [],
   "source": [
    "import skimage.measure as measure\n",
    "\n",
    "# Regionprops ignores zero, but we want to include it, so add one\n",
    "regions = measure.regionprops(astronaut_felzenszwalb + 1)  \n",
    "\n",
    "# Pass centroid data into the graph\n",
    "for region in regions:\n",
    "    rag.nodes[region['label']]['centroid'] = region['centroid']"
   ]
  },
  {
   "cell_type": "code",
   "execution_count": null,
   "metadata": {},
   "outputs": [],
   "source": [
    "def display_edges(image, g, threshold):\n",
    "    \"\"\"Draw edges of a RAG on its image\n",
    " \n",
    "    Returns a modified image with the edges drawn.Edges are drawn in green\n",
    "    and nodes are drawn in yellow.\n",
    " \n",
    "    Parameters\n",
    "    ----------\n",
    "    image : ndarray\n",
    "        The image to be drawn on.\n",
    "    g : RAG\n",
    "        The Region Adjacency Graph.\n",
    "    threshold : float\n",
    "        Only edges in `g` below `threshold` are drawn.\n",
    " \n",
    "    Returns:\n",
    "    out: ndarray\n",
    "        Image with the edges drawn.\n",
    "    \"\"\"\n",
    "    image = image.copy()\n",
    "    for edge in g.edges():\n",
    "        n1, n2 = edge\n",
    " \n",
    "        r1, c1 = map(int, rag.nodes[n1]['centroid'])\n",
    "        r2, c2 = map(int, rag.nodes[n2]['centroid'])\n",
    " \n",
    "        line  = draw.line(r1, c1, r2, c2)\n",
    "        circle = draw.circle(r1,c1,2)\n",
    " \n",
    "        if g[n1][n2]['weight'] < threshold :\n",
    "            image[line] = 0,255,0\n",
    "        image[circle] = 255,255,0\n",
    " \n",
    "    return image"
   ]
  },
  {
   "cell_type": "code",
   "execution_count": null,
   "metadata": {},
   "outputs": [],
   "source": [
    "# All edges are drawn with threshold at infinity\n",
    "edges_drawn_all = display_edges(astronaut_felzenszwalb_colored, rag, np.inf)\n",
    "image_show(edges_drawn_all);"
   ]
  },
  {
   "cell_type": "code",
   "execution_count": null,
   "metadata": {},
   "outputs": [],
   "source": [
    "threshold = 20 # Experiment\n",
    "\n",
    "edges_drawn_few = display_edges(astronaut_felzenszwalb_colored, rag, threshold)\n",
    "image_show(edges_drawn_few);"
   ]
  },
  {
   "cell_type": "markdown",
   "metadata": {},
   "source": [
    "## Exercise: Cat picture\n",
    "The data directory also has an excellent image of Stéfan's cat, Chelsea. With what you've learned, can you segment the cat's nose? How about the eyes? Why is the eye particularly challenging?\n",
    "\n",
    "Hint: the cat's nose is located close to [240, 270] and the right eye center is near [110, 172] in row, column notation."
   ]
  },
  {
   "cell_type": "code",
   "execution_count": null,
   "metadata": {},
   "outputs": [],
   "source": [
    "fig, ax = image_show(data.chelsea())\n",
    "\n",
    "ax.plot(270, 240, marker='o', markersize=15, color=\"g\")\n",
    "ax.plot(172, 110, marker='o', markersize=15, color=\"r\");"
   ]
  },
  {
   "cell_type": "code",
   "execution_count": null,
   "metadata": {},
   "outputs": [],
   "source": []
  }
 ],
 "metadata": {
  "kernelspec": {
   "display_name": "Python 3",
   "language": "python",
   "name": "python3"
  },
  "language_info": {
   "codemirror_mode": {
    "name": "ipython",
    "version": 3
   },
   "file_extension": ".py",
   "mimetype": "text/x-python",
   "name": "python",
   "nbconvert_exporter": "python",
   "pygments_lexer": "ipython3",
   "version": "3.8.3"
  }
 },
 "nbformat": 4,
 "nbformat_minor": 4
}
